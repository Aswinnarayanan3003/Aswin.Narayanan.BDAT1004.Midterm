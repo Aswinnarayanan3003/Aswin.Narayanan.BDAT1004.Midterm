{
 "cells": [
  {
   "cell_type": "markdown",
   "id": "18599fc3",
   "metadata": {},
   "source": [
    "# Question 21\n",
    "\n",
    "\n",
    "In a jupyter notebook solve the following question. Please upload the notebook to GitHub and provide the link submission box below.\n",
    "\n",
    " \n",
    "\n",
    "__int()__: Constructor that takes as input a pair of Point objects that represent the ends points of the line segment\n",
    "\n",
    "Length():: returns the length if the segment \n",
    "\n",
    "Slope() returns the slope of the segment of none if the slope is unbounded \n",
    "\n",
    " \n",
    "\n",
    ">>> p1 = Point(3,4)\n",
    "\n",
    ">>> p2 = Point()\n",
    "\n",
    ">>> s = Segment(p1,p2)\n",
    "\n",
    ">>> s.length()\n",
    "\n",
    "5.0\n",
    "\n",
    ">>> s.slope()\n",
    "\n",
    "0.75\n"
   ]
  },
  {
   "cell_type": "code",
   "execution_count": 1,
   "id": "0d28142e",
   "metadata": {},
   "outputs": [
    {
     "name": "stdout",
     "output_type": "stream",
     "text": [
      "5.0\n",
      "0.75\n"
     ]
    }
   ],
   "source": [
    "import math\n",
    "\n",
    "class Point:\n",
    "    def __init__(self, x=0, y=0):\n",
    "        self.x = x\n",
    "        self.y = y\n",
    "\n",
    "class Segment:\n",
    "    def __init__(self, p1, p2):\n",
    "        self.p1 = p1  \n",
    "        self.p2 = p2  \n",
    "\n",
    "    # In this step we will calculate and return the length of the line segment\n",
    "    def length(self):\n",
    "        return ((self.p2.x - self.p1.x) ** 2 + (self.p2.y - self.p1.y) ** 2) ** 0.5\n",
    "    # In thi step we will calculate slope and return its value\n",
    "    def slope(self):\n",
    "        return \"undefined\" if self.p2.x - self.p1.x == 0 else (self.p2.y - self.p1.y) / (self.p2.x - self.p1.x)\n",
    "\n",
    "\n",
    "p1 = Point(4,3)\n",
    "p2 = Point() \n",
    "\n",
    "s = Segment(p1, p2)\n",
    "\n",
    "print(s.length())  # Output: 5.0\n",
    "print(s.slope())   # Output: 0.75"
   ]
  },
  {
   "cell_type": "markdown",
   "id": "c80833ed",
   "metadata": {},
   "source": [
    "# Question 22"
   ]
  },
  {
   "cell_type": "code",
   "execution_count": 2,
   "id": "b3b69611",
   "metadata": {},
   "outputs": [
    {
     "name": "stdout",
     "output_type": "stream",
     "text": [
      "2\n",
      "4\n"
     ]
    }
   ],
   "source": [
    "import sqlite3\n",
    "\n",
    "def weather_table(cur):\n",
    "    cur.execute(\"\"\"\n",
    "    CREATE TABLE IF NOT EXISTS Weather (\n",
    "        id INTEGER PRIMARY KEY,\n",
    "        recordDate DATE,\n",
    "        temperature INTEGER\n",
    "    )\n",
    "    \"\"\")\n",
    "\n",
    "def inserting_weather_datas(cur, data):\n",
    "    cur.executemany(\"INSERT OR IGNORE INTO Weather (id, recordDate, temperature) VALUES (?, ?, ?)\", data)\n",
    "\n",
    "def find_higher_temperatures(cur):\n",
    "    cur.execute('''\n",
    "        SELECT wT1.id\n",
    "        FROM Weather wT1\n",
    "        JOIN Weather wT2\n",
    "        ON wT1.recordDate = DATE(wT2.recordDate, '+1 day')\n",
    "        WHERE wT1.temperature > wT2.temperature\n",
    "    ''')\n",
    "    return cur.fetchall()\n",
    "\n",
    "conn = sqlite3.connect(\"web.db\")\n",
    "\n",
    "# Create a cursor object\n",
    "cur = conn.cursor()\n",
    "\n",
    "# Create the Weather table if not exists\n",
    "weather_table(cur)\n",
    "\n",
    "# Data to be inserted\n",
    "data = [\n",
    "    (1, '2015-01-01', 10),\n",
    "    (2, '2015-01-02', 25),\n",
    "    (3, '2015-01-03', 20),\n",
    "    (4, '2015-01-04', 30)\n",
    "]\n",
    "\n",
    "# Insert data using executemany with INSERT OR IGNORE\n",
    "inserting_weather_datas(cur, data)\n",
    "\n",
    "# Commit the changes to the database\n",
    "conn.commit()\n",
    "\n",
    "result = find_higher_temperatures(cur)\n",
    "\n",
    "# Fetch and print the results\n",
    "for row in result:\n",
    "    print(row[0])\n",
    "\n",
    "cur.close()\n",
    "conn.close()"
   ]
  },
  {
   "cell_type": "markdown",
   "id": "26c2cb11",
   "metadata": {},
   "source": [
    "# Question 23\n",
    "In a jupyter notebook solve the following question using python. Please upload the notebook to GitHub and provide the link submission box below.\n",
    "\n",
    "\n",
    "\n",
    "Develop a recursive function tough() that takes two nonnegative integer arguments and outputs a pattern as shown below. Hint: The first argument represents the indentation of the pattern, where the second argument -- always a pattern of 2 indicates the number *s in the longest line of *s in the pattern"
   ]
  },
  {
   "cell_type": "code",
   "execution_count": 3,
   "id": "510762fd",
   "metadata": {},
   "outputs": [
    {
     "name": "stdout",
     "output_type": "stream",
     "text": [
      "First\n",
      "Second\n",
      "*\n",
      "Third\n",
      "*\n",
      "**\n",
      " *\n",
      "Fourth\n",
      "*\n",
      "**\n",
      " *\n",
      "****\n",
      "  *\n",
      "  **\n",
      "   *\n"
     ]
    }
   ],
   "source": [
    "def line_print(indentation, stars):\n",
    "    print(' ' * indentation + '*' * stars)\n",
    "\n",
    "def tough(indentation, pattern):\n",
    "    if pattern > 0:\n",
    "        tough(indentation, pattern // 2)\n",
    "        line_print(indentation, pattern)\n",
    "        tough(indentation + pattern // 2, pattern // 2)\n",
    "\n",
    "# Example usage:\n",
    "print(\"First\")\n",
    "tough(0, 0)\n",
    "\n",
    "print(\"Second\")\n",
    "tough(0, 1)\n",
    "\n",
    "print(\"Third\")\n",
    "tough(0, 2)\n",
    "\n",
    "print(\"Fourth\")\n",
    "tough(0, 4)"
   ]
  },
  {
   "cell_type": "code",
   "execution_count": null,
   "id": "e0845154",
   "metadata": {},
   "outputs": [],
   "source": []
  }
 ],
 "metadata": {
  "kernelspec": {
   "display_name": "Python 3 (ipykernel)",
   "language": "python",
   "name": "python3"
  },
  "language_info": {
   "codemirror_mode": {
    "name": "ipython",
    "version": 3
   },
   "file_extension": ".py",
   "mimetype": "text/x-python",
   "name": "python",
   "nbconvert_exporter": "python",
   "pygments_lexer": "ipython3",
   "version": "3.11.4"
  }
 },
 "nbformat": 4,
 "nbformat_minor": 5
}
